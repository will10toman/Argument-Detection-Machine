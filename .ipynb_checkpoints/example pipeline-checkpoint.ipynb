{
 "cells": [
  {
   "cell_type": "code",
   "execution_count": null,
   "id": "d1f8b98e",
   "metadata": {},
   "outputs": [],
   "source": [
    "# imports\n",
    "import pandas as pd\n",
    "from sentence_transformers import SentenceTransformer\n",
    "import numpy as np\n",
    "from sklearn.model_selection import train_test_split\n",
    "from sklearn.linear_model import LogisticRegression\n",
    "from sklearn.metrics import classification_report, confusion_matrix"
   ]
  },
  {
   "cell_type": "code",
   "execution_count": 2,
   "id": "7387b2f2",
   "metadata": {},
   "outputs": [
    {
     "name": "stdout",
     "output_type": "stream",
     "text": [
      "Total sentences: 860866\n",
      "evidence    833983\n",
      "non_info     25221\n",
      "claim         1662\n",
      "Name: category, dtype: int64\n"
     ]
    }
   ],
   "source": [
    "# Load your data\n",
    "df = pd.read_csv('argumentdetection7.csv')\n",
    "\n",
    "print(f\"Total sentences: {len(df)}\")\n",
    "print(df['category'].value_counts())\n"
   ]
  },
  {
   "cell_type": "code",
   "execution_count": 8,
   "id": "04d0c73d",
   "metadata": {},
   "outputs": [
    {
     "name": "stdout",
     "output_type": "stream",
     "text": [
      "evidence    3333\n",
      "non_info    3333\n",
      "claim       1662\n",
      "Name: category, dtype: int64\n"
     ]
    }
   ],
   "source": [
    "# Take a stratified sample \n",
    "sample_size = 10000\n",
    "\n",
    "if len(df) > sample_size:  # take either all rows in that category OR sample_size/3, whichever is smaller\n",
    "    df_sample = df.groupby('category', group_keys=False).apply(\n",
    "        lambda x: x.sample(min(len(x), sample_size // 3), random_state=11)\n",
    "    )\n",
    "else:\n",
    "    df_sample = df\n",
    "\n",
    "print(df_sample['category'].value_counts())\n"
   ]
  },
  {
   "cell_type": "code",
   "execution_count": 9,
   "id": "bd2b6cef",
   "metadata": {},
   "outputs": [
    {
     "data": {
      "application/vnd.jupyter.widget-view+json": {
       "model_id": "5301a936fcfe4798926b3bebfa54a533",
       "version_major": 2,
       "version_minor": 0
      },
      "text/plain": [
       "Batches:   0%|          | 0/261 [00:00<?, ?it/s]"
      ]
     },
     "metadata": {},
     "output_type": "display_data"
    },
    {
     "name": "stdout",
     "output_type": "stream",
     "text": [
      "Classification Report\n",
      "              precision    recall  f1-score   support\n",
      "\n",
      "       claim       0.87      0.92      0.89       332\n",
      "    evidence       0.83      0.85      0.84       667\n",
      "    non_info       0.87      0.81      0.84       667\n",
      "\n",
      "    accuracy                           0.85      1666\n",
      "   macro avg       0.85      0.86      0.86      1666\n",
      "weighted avg       0.85      0.85      0.85      1666\n",
      "\n",
      "Confusion Matrix\n",
      "[[305  17  10]\n",
      " [ 23 570  74]\n",
      " [ 23 101 543]]\n"
     ]
    }
   ],
   "source": [
    "# Load sentence transformer\n",
    "model = SentenceTransformer('all-MiniLM-L6-v2')\n",
    "# Generate embeddings\n",
    "embeddings = model.encode(df_sample['sentence'].tolist(), \n",
    "                         show_progress_bar=True,\n",
    "                         batch_size=32)\n",
    "\n",
    "# Split into train/test\n",
    "X_train, X_test, y_train, y_test = train_test_split(\n",
    "    embeddings, \n",
    "    df_sample['category'], \n",
    "    test_size=0.2, \n",
    "    random_state=42,\n",
    "    stratify=df_sample['category']\n",
    ")\n",
    "\n",
    "# Train simple classifier\n",
    "classifier = LogisticRegression(max_iter=1000, random_state=11)\n",
    "classifier.fit(X_train, y_train)\n",
    "\n",
    "# Evaluate\n",
    "y_pred = classifier.predict(X_test)\n",
    "\n",
    "print(\"Classification Report\")\n",
    "print(classification_report(y_test, y_pred))\n",
    "\n",
    "print(\"Confusion Matrix\")\n",
    "cm = confusion_matrix(y_test, y_pred, labels=['claim', 'evidence', 'non_info'])\n",
    "print(cm)"
   ]
  }
 ],
 "metadata": {
  "kernelspec": {
   "display_name": "base",
   "language": "python",
   "name": "python3"
  },
  "language_info": {
   "codemirror_mode": {
    "name": "ipython",
    "version": 3
   },
   "file_extension": ".py",
   "mimetype": "text/x-python",
   "name": "python",
   "nbconvert_exporter": "python",
   "pygments_lexer": "ipython3",
   "version": "3.11.3"
  }
 },
 "nbformat": 4,
 "nbformat_minor": 5
}
